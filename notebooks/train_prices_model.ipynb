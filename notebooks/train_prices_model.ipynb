{
 "cells": [
  {
   "cell_type": "code",
   "execution_count": 15,
   "metadata": {},
   "outputs": [],
   "source": [
    "import torch\n",
    "import pandas as pd\n",
    "\n",
    "from sklearn.model_selection import train_test_split\n",
    "from sklearn.metrics import mean_squared_error\n",
    "from datasets import Dataset\n",
    "from transformers import DistilBertTokenizer, AutoModelForSequenceClassification, Trainer, TrainingArguments"
   ]
  },
  {
   "cell_type": "code",
   "execution_count": 9,
   "metadata": {},
   "outputs": [
    {
     "data": {
      "text/html": [
       "<div>\n",
       "<style scoped>\n",
       "    .dataframe tbody tr th:only-of-type {\n",
       "        vertical-align: middle;\n",
       "    }\n",
       "\n",
       "    .dataframe tbody tr th {\n",
       "        vertical-align: top;\n",
       "    }\n",
       "\n",
       "    .dataframe thead th {\n",
       "        text-align: right;\n",
       "    }\n",
       "</style>\n",
       "<table border=\"1\" class=\"dataframe\">\n",
       "  <thead>\n",
       "    <tr style=\"text-align: right;\">\n",
       "      <th></th>\n",
       "      <th>title</th>\n",
       "      <th>description</th>\n",
       "      <th>budget</th>\n",
       "    </tr>\n",
       "  </thead>\n",
       "  <tbody>\n",
       "    <tr>\n",
       "      <th>0</th>\n",
       "      <td>Experienced Media Buyer For Solar Pannel and R...</td>\n",
       "      <td>We’re looking for a talented and hardworking a...</td>\n",
       "      <td>500.0</td>\n",
       "    </tr>\n",
       "    <tr>\n",
       "      <th>1</th>\n",
       "      <td>Full Stack Developer</td>\n",
       "      <td>Job Title: Full Stack DeveloperWe are seeking ...</td>\n",
       "      <td>1100.0</td>\n",
       "    </tr>\n",
       "    <tr>\n",
       "      <th>2</th>\n",
       "      <td>Data Engineer</td>\n",
       "      <td>We are looking for a resource who can work par...</td>\n",
       "      <td>650.0</td>\n",
       "    </tr>\n",
       "    <tr>\n",
       "      <th>3</th>\n",
       "      <td>Want to fix the WordPress Plugin</td>\n",
       "      <td>I am currently facing some issues with a custo...</td>\n",
       "      <td>5.0</td>\n",
       "    </tr>\n",
       "    <tr>\n",
       "      <th>4</th>\n",
       "      <td>PHP/HTML/CSS WordPress Developer Needed for We...</td>\n",
       "      <td>**Description:**We are seeking an experienced ...</td>\n",
       "      <td>500.0</td>\n",
       "    </tr>\n",
       "  </tbody>\n",
       "</table>\n",
       "</div>"
      ],
      "text/plain": [
       "                                               title  \\\n",
       "0  Experienced Media Buyer For Solar Pannel and R...   \n",
       "1                               Full Stack Developer   \n",
       "2                                      Data Engineer   \n",
       "3                   Want to fix the WordPress Plugin   \n",
       "4  PHP/HTML/CSS WordPress Developer Needed for We...   \n",
       "\n",
       "                                         description  budget  \n",
       "0  We’re looking for a talented and hardworking a...   500.0  \n",
       "1  Job Title: Full Stack DeveloperWe are seeking ...  1100.0  \n",
       "2  We are looking for a resource who can work par...   650.0  \n",
       "3  I am currently facing some issues with a custo...     5.0  \n",
       "4  **Description:**We are seeking an experienced ...   500.0  "
      ]
     },
     "execution_count": 9,
     "metadata": {},
     "output_type": "execute_result"
    }
   ],
   "source": [
    "df = pd.read_csv(\"preprocessed-upwork-jobds.csv\")\n",
    "df.head()"
   ]
  },
  {
   "cell_type": "code",
   "execution_count": 11,
   "metadata": {},
   "outputs": [
    {
     "data": {
      "text/html": [
       "<div>\n",
       "<style scoped>\n",
       "    .dataframe tbody tr th:only-of-type {\n",
       "        vertical-align: middle;\n",
       "    }\n",
       "\n",
       "    .dataframe tbody tr th {\n",
       "        vertical-align: top;\n",
       "    }\n",
       "\n",
       "    .dataframe thead th {\n",
       "        text-align: right;\n",
       "    }\n",
       "</style>\n",
       "<table border=\"1\" class=\"dataframe\">\n",
       "  <thead>\n",
       "    <tr style=\"text-align: right;\">\n",
       "      <th></th>\n",
       "      <th>text</th>\n",
       "      <th>labels</th>\n",
       "    </tr>\n",
       "  </thead>\n",
       "  <tbody>\n",
       "    <tr>\n",
       "      <th>0</th>\n",
       "      <td>Experienced Media Buyer For Solar Pannel and R...</td>\n",
       "      <td>500.0</td>\n",
       "    </tr>\n",
       "    <tr>\n",
       "      <th>1</th>\n",
       "      <td>Full Stack Developer\\nJob Title: Full Stack De...</td>\n",
       "      <td>1100.0</td>\n",
       "    </tr>\n",
       "    <tr>\n",
       "      <th>2</th>\n",
       "      <td>Data Engineer\\nWe are looking for a resource w...</td>\n",
       "      <td>650.0</td>\n",
       "    </tr>\n",
       "    <tr>\n",
       "      <th>3</th>\n",
       "      <td>Want to fix the WordPress Plugin\\nI am current...</td>\n",
       "      <td>5.0</td>\n",
       "    </tr>\n",
       "    <tr>\n",
       "      <th>4</th>\n",
       "      <td>PHP/HTML/CSS WordPress Developer Needed for We...</td>\n",
       "      <td>500.0</td>\n",
       "    </tr>\n",
       "  </tbody>\n",
       "</table>\n",
       "</div>"
      ],
      "text/plain": [
       "                                                text  labels\n",
       "0  Experienced Media Buyer For Solar Pannel and R...   500.0\n",
       "1  Full Stack Developer\\nJob Title: Full Stack De...  1100.0\n",
       "2  Data Engineer\\nWe are looking for a resource w...   650.0\n",
       "3  Want to fix the WordPress Plugin\\nI am current...     5.0\n",
       "4  PHP/HTML/CSS WordPress Developer Needed for We...   500.0"
      ]
     },
     "execution_count": 11,
     "metadata": {},
     "output_type": "execute_result"
    }
   ],
   "source": [
    "df[\"text\"] = df[\"title\"] + \"\\n\" + df[\"description\"]\n",
    "df[\"labels\"] =  df[\"budget\"].astype(float)\n",
    "df = df[[\"text\", \"labels\"]]\n",
    "df.head()"
   ]
  },
  {
   "cell_type": "code",
   "execution_count": 12,
   "metadata": {},
   "outputs": [
    {
     "data": {
      "application/vnd.jupyter.widget-view+json": {
       "model_id": "6df6392a13ad4091847141d6d35c6c0b",
       "version_major": 2,
       "version_minor": 0
      },
      "text/plain": [
       "Map:   0%|          | 0/17498 [00:00<?, ? examples/s]"
      ]
     },
     "metadata": {},
     "output_type": "display_data"
    },
    {
     "data": {
      "application/vnd.jupyter.widget-view+json": {
       "model_id": "10987d2250cd4ecf9c065926eed46cb9",
       "version_major": 2,
       "version_minor": 0
      },
      "text/plain": [
       "Map:   0%|          | 0/4375 [00:00<?, ? examples/s]"
      ]
     },
     "metadata": {},
     "output_type": "display_data"
    }
   ],
   "source": [
    "MODEL_NAME = \"distilbert-base-uncased\"\n",
    "tokenizer = DistilBertTokenizer.from_pretrained(MODEL_NAME)\n",
    "\n",
    "\n",
    "def tokenize_function(sample):\n",
    "    return tokenizer(sample[\"text\"], padding=\"max_length\", truncation=True)\n",
    "\n",
    "\n",
    "train_data, test_data = train_test_split(df, test_size=0.2)\n",
    "train_dataset = Dataset.from_pandas(train_data).map(tokenize_function, batched=True)\n",
    "test_dataset = Dataset.from_pandas(test_data).map(tokenize_function, batched=True)"
   ]
  },
  {
   "cell_type": "code",
   "execution_count": 17,
   "metadata": {},
   "outputs": [
    {
     "name": "stderr",
     "output_type": "stream",
     "text": [
      "Some weights of DistilBertForSequenceClassification were not initialized from the model checkpoint at distilbert-base-uncased and are newly initialized: ['classifier.bias', 'classifier.weight', 'pre_classifier.bias', 'pre_classifier.weight']\n",
      "You should probably TRAIN this model on a down-stream task to be able to use it for predictions and inference.\n",
      "/opt/homebrew/anaconda3/envs/py3.11/lib/python3.11/site-packages/transformers/training_args.py:1545: FutureWarning: `evaluation_strategy` is deprecated and will be removed in version 4.46 of 🤗 Transformers. Use `eval_strategy` instead\n",
      "  warnings.warn(\n"
     ]
    }
   ],
   "source": [
    "model = AutoModelForSequenceClassification.from_pretrained(\n",
    "    MODEL_NAME,\n",
    "    num_labels=1,\n",
    "    problem_type=\"regression\",\n",
    ")\n",
    "\n",
    "\n",
    "def compute_metrics(pred):\n",
    "    \"\"\"Calculate evaluation metrics.\"\"\"\n",
    "    labels = pred.label_ids\n",
    "    preds = pred.predictions.squeeze()\n",
    "    mse = mean_squared_error(labels, preds)\n",
    "    return {\"mse\": mse}\n",
    "\n",
    "\n",
    "trainer = Trainer(\n",
    "    model=model,\n",
    "    args=TrainingArguments(\n",
    "        output_dir=\"./results\",\n",
    "        evaluation_strategy=\"epoch\",\n",
    "        learning_rate=2e-5,\n",
    "        per_device_train_batch_size=16,\n",
    "        num_train_epochs=3,\n",
    "        weight_decay=0.01,\n",
    "        save_total_limit=2,\n",
    "    ),\n",
    "    train_dataset=train_dataset,\n",
    "    eval_dataset=test_dataset,\n",
    "    tokenizer=tokenizer,\n",
    "    compute_metrics=compute_metrics,\n",
    ")"
   ]
  },
  {
   "cell_type": "code",
   "execution_count": 18,
   "metadata": {},
   "outputs": [
    {
     "data": {
      "application/vnd.jupyter.widget-view+json": {
       "model_id": "a46b7871ef454dedb733ce37500ba338",
       "version_major": 2,
       "version_minor": 0
      },
      "text/plain": [
       "  0%|          | 0/3282 [00:00<?, ?it/s]"
      ]
     },
     "metadata": {},
     "output_type": "display_data"
    },
    {
     "name": "stdout",
     "output_type": "stream",
     "text": [
      "{'loss': 151749918.72, 'grad_norm': 91086.4453125, 'learning_rate': 1.695307739183425e-05, 'epoch': 0.46}\n",
      "{'loss': 136619843.584, 'grad_norm': 150472.65625, 'learning_rate': 1.3906154783668494e-05, 'epoch': 0.91}\n"
     ]
    },
    {
     "data": {
      "application/vnd.jupyter.widget-view+json": {
       "model_id": "33c9240c9ebf4cfdb72c69f53527907c",
       "version_major": 2,
       "version_minor": 0
      },
      "text/plain": [
       "  0%|          | 0/547 [00:00<?, ?it/s]"
      ]
     },
     "metadata": {},
     "output_type": "display_data"
    },
    {
     "name": "stdout",
     "output_type": "stream",
     "text": [
      "{'eval_loss': 36471908.0, 'eval_mse': 36471908.0, 'eval_runtime': 208.4805, 'eval_samples_per_second': 20.985, 'eval_steps_per_second': 2.624, 'epoch': 1.0}\n",
      "{'loss': 16733231.104, 'grad_norm': 9068.92578125, 'learning_rate': 1.0859232175502743e-05, 'epoch': 1.37}\n",
      "{'loss': 147028361.216, 'grad_norm': 196832.90625, 'learning_rate': 7.81230956733699e-06, 'epoch': 1.83}\n"
     ]
    },
    {
     "data": {
      "application/vnd.jupyter.widget-view+json": {
       "model_id": "e3cad6d1ae214776afc77bcba70aa7ef",
       "version_major": 2,
       "version_minor": 0
      },
      "text/plain": [
       "  0%|          | 0/547 [00:00<?, ?it/s]"
      ]
     },
     "metadata": {},
     "output_type": "display_data"
    },
    {
     "name": "stdout",
     "output_type": "stream",
     "text": [
      "{'eval_loss': 36375020.0, 'eval_mse': 36375024.0, 'eval_runtime': 206.6966, 'eval_samples_per_second': 21.166, 'eval_steps_per_second': 2.646, 'epoch': 2.0}\n",
      "{'loss': 144216571.904, 'grad_norm': 72221.828125, 'learning_rate': 4.765386959171238e-06, 'epoch': 2.29}\n",
      "{'loss': 266547675.136, 'grad_norm': 98645.4921875, 'learning_rate': 1.7184643510054846e-06, 'epoch': 2.74}\n"
     ]
    },
    {
     "data": {
      "application/vnd.jupyter.widget-view+json": {
       "model_id": "71600a19acb549788f7b031576e3c496",
       "version_major": 2,
       "version_minor": 0
      },
      "text/plain": [
       "  0%|          | 0/547 [00:00<?, ?it/s]"
      ]
     },
     "metadata": {},
     "output_type": "display_data"
    },
    {
     "name": "stdout",
     "output_type": "stream",
     "text": [
      "{'eval_loss': 36346284.0, 'eval_mse': 36346284.0, 'eval_runtime': 203.8332, 'eval_samples_per_second': 21.464, 'eval_steps_per_second': 2.684, 'epoch': 3.0}\n",
      "{'train_runtime': 8398.1774, 'train_samples_per_second': 6.251, 'train_steps_per_second': 0.391, 'train_loss': 132834888.85313833, 'epoch': 3.0}\n"
     ]
    },
    {
     "data": {
      "text/plain": [
       "TrainOutput(global_step=3282, training_loss=132834888.85313833, metrics={'train_runtime': 8398.1774, 'train_samples_per_second': 6.251, 'train_steps_per_second': 0.391, 'total_flos': 6953619614902272.0, 'train_loss': 132834888.85313833, 'epoch': 3.0})"
      ]
     },
     "execution_count": 18,
     "metadata": {},
     "output_type": "execute_result"
    }
   ],
   "source": [
    "trainer.train()"
   ]
  },
  {
   "cell_type": "code",
   "execution_count": 22,
   "metadata": {},
   "outputs": [
    {
     "data": {
      "text/plain": [
       "('./output/tokenizer_config.json',\n",
       " './output/special_tokens_map.json',\n",
       " './output/vocab.txt',\n",
       " './output/added_tokens.json')"
      ]
     },
     "execution_count": 22,
     "metadata": {},
     "output_type": "execute_result"
    }
   ],
   "source": [
    "model.save_pretrained(\"./output\")\n",
    "tokenizer.save_pretrained(\"./output\")"
   ]
  },
  {
   "cell_type": "code",
   "execution_count": 35,
   "metadata": {},
   "outputs": [],
   "source": [
    "title = \"Middle Python Developer\"\n",
    "description = \"We are OX Company, a team that creates powerful web applications and software for any architectural solutions. Our products have already been highly appreciated by both private clients and businesses. We are currently looking for a Python Developer to help us develop and maintain our projects. If you love coding in Python and want to work on exciting tasks, we are looking for you!\"\n",
    "text = title + \"\\n\" + description\n",
    "inputs = tokenizer(text, return_tensors=\"pt\", padding=\"max_length\", truncation=True).to(\"mps\")\n",
    "outputs = model(**inputs)"
   ]
  },
  {
   "cell_type": "code",
   "execution_count": 38,
   "metadata": {},
   "outputs": [
    {
     "name": "stdout",
     "output_type": "stream",
     "text": [
      "Predicted budget: 187.9017333984375\n"
     ]
    }
   ],
   "source": [
    "print(f\"Predicted budget: {outputs.logits.detach().cpu().numpy()[0][0]}\")"
   ]
  },
  {
   "cell_type": "code",
   "execution_count": null,
   "metadata": {},
   "outputs": [],
   "source": []
  }
 ],
 "metadata": {
  "kernelspec": {
   "display_name": "py3.11",
   "language": "python",
   "name": "python3"
  },
  "language_info": {
   "codemirror_mode": {
    "name": "ipython",
    "version": 3
   },
   "file_extension": ".py",
   "mimetype": "text/x-python",
   "name": "python",
   "nbconvert_exporter": "python",
   "pygments_lexer": "ipython3",
   "version": "3.11.11"
  }
 },
 "nbformat": 4,
 "nbformat_minor": 2
}
