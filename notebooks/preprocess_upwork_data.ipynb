{
 "cells": [
  {
   "cell_type": "code",
   "execution_count": 2,
   "metadata": {},
   "outputs": [],
   "source": [
    "import pandas as pd"
   ]
  },
  {
   "cell_type": "code",
   "execution_count": 3,
   "metadata": {},
   "outputs": [
    {
     "data": {
      "text/html": [
       "<div>\n",
       "<style scoped>\n",
       "    .dataframe tbody tr th:only-of-type {\n",
       "        vertical-align: middle;\n",
       "    }\n",
       "\n",
       "    .dataframe tbody tr th {\n",
       "        vertical-align: top;\n",
       "    }\n",
       "\n",
       "    .dataframe thead th {\n",
       "        text-align: right;\n",
       "    }\n",
       "</style>\n",
       "<table border=\"1\" class=\"dataframe\">\n",
       "  <thead>\n",
       "    <tr style=\"text-align: right;\">\n",
       "      <th></th>\n",
       "      <th>title</th>\n",
       "      <th>link</th>\n",
       "      <th>description</th>\n",
       "      <th>published_date</th>\n",
       "      <th>is_hourly</th>\n",
       "      <th>hourly_low</th>\n",
       "      <th>hourly_high</th>\n",
       "      <th>budget</th>\n",
       "      <th>country</th>\n",
       "    </tr>\n",
       "  </thead>\n",
       "  <tbody>\n",
       "    <tr>\n",
       "      <th>0</th>\n",
       "      <td>Experienced Media Buyer For Solar Pannel and R...</td>\n",
       "      <td>https://www.upwork.com/jobs/Experienced-Media-...</td>\n",
       "      <td>We’re looking for a talented and hardworking a...</td>\n",
       "      <td>2024-02-17 09:09:54+00:00</td>\n",
       "      <td>False</td>\n",
       "      <td>NaN</td>\n",
       "      <td>NaN</td>\n",
       "      <td>500.0</td>\n",
       "      <td>NaN</td>\n",
       "    </tr>\n",
       "    <tr>\n",
       "      <th>1</th>\n",
       "      <td>Full Stack Developer</td>\n",
       "      <td>https://www.upwork.com/jobs/Full-Stack-Develop...</td>\n",
       "      <td>Job Title: Full Stack DeveloperWe are seeking ...</td>\n",
       "      <td>2024-02-17 09:09:17+00:00</td>\n",
       "      <td>False</td>\n",
       "      <td>NaN</td>\n",
       "      <td>NaN</td>\n",
       "      <td>1100.0</td>\n",
       "      <td>United States</td>\n",
       "    </tr>\n",
       "    <tr>\n",
       "      <th>2</th>\n",
       "      <td>SMMA Bubble App</td>\n",
       "      <td>https://www.upwork.com/jobs/SMMA-Bubble-App_%7...</td>\n",
       "      <td>I need someone to redesign my bubble.io site t...</td>\n",
       "      <td>2024-02-17 09:08:46+00:00</td>\n",
       "      <td>True</td>\n",
       "      <td>10.0</td>\n",
       "      <td>30.0</td>\n",
       "      <td>NaN</td>\n",
       "      <td>United States</td>\n",
       "    </tr>\n",
       "    <tr>\n",
       "      <th>3</th>\n",
       "      <td>Talent Hunter Specialized in Marketing</td>\n",
       "      <td>https://www.upwork.com/jobs/Talent-Hunter-Spec...</td>\n",
       "      <td>Join Our Growing Team!We are an innovative com...</td>\n",
       "      <td>2024-02-17 09:08:08+00:00</td>\n",
       "      <td>NaN</td>\n",
       "      <td>NaN</td>\n",
       "      <td>NaN</td>\n",
       "      <td>NaN</td>\n",
       "      <td>United States</td>\n",
       "    </tr>\n",
       "    <tr>\n",
       "      <th>4</th>\n",
       "      <td>Data Engineer</td>\n",
       "      <td>https://www.upwork.com/jobs/Data-Engineer_%7E0...</td>\n",
       "      <td>We are looking for a resource who can work par...</td>\n",
       "      <td>2024-02-17 09:07:42+00:00</td>\n",
       "      <td>False</td>\n",
       "      <td>NaN</td>\n",
       "      <td>NaN</td>\n",
       "      <td>650.0</td>\n",
       "      <td>India</td>\n",
       "    </tr>\n",
       "  </tbody>\n",
       "</table>\n",
       "</div>"
      ],
      "text/plain": [
       "                                               title  \\\n",
       "0  Experienced Media Buyer For Solar Pannel and R...   \n",
       "1                               Full Stack Developer   \n",
       "2                                    SMMA Bubble App   \n",
       "3             Talent Hunter Specialized in Marketing   \n",
       "4                                      Data Engineer   \n",
       "\n",
       "                                                link  \\\n",
       "0  https://www.upwork.com/jobs/Experienced-Media-...   \n",
       "1  https://www.upwork.com/jobs/Full-Stack-Develop...   \n",
       "2  https://www.upwork.com/jobs/SMMA-Bubble-App_%7...   \n",
       "3  https://www.upwork.com/jobs/Talent-Hunter-Spec...   \n",
       "4  https://www.upwork.com/jobs/Data-Engineer_%7E0...   \n",
       "\n",
       "                                         description  \\\n",
       "0  We’re looking for a talented and hardworking a...   \n",
       "1  Job Title: Full Stack DeveloperWe are seeking ...   \n",
       "2  I need someone to redesign my bubble.io site t...   \n",
       "3  Join Our Growing Team!We are an innovative com...   \n",
       "4  We are looking for a resource who can work par...   \n",
       "\n",
       "              published_date is_hourly  hourly_low  hourly_high  budget  \\\n",
       "0  2024-02-17 09:09:54+00:00     False         NaN          NaN   500.0   \n",
       "1  2024-02-17 09:09:17+00:00     False         NaN          NaN  1100.0   \n",
       "2  2024-02-17 09:08:46+00:00      True        10.0         30.0     NaN   \n",
       "3  2024-02-17 09:08:08+00:00       NaN         NaN          NaN     NaN   \n",
       "4  2024-02-17 09:07:42+00:00     False         NaN          NaN   650.0   \n",
       "\n",
       "         country  \n",
       "0            NaN  \n",
       "1  United States  \n",
       "2  United States  \n",
       "3  United States  \n",
       "4          India  "
      ]
     },
     "execution_count": 3,
     "metadata": {},
     "output_type": "execute_result"
    }
   ],
   "source": [
    "df = pd.read_csv(\"upwork-jobs.csv\")\n",
    "df.head()"
   ]
  },
  {
   "cell_type": "code",
   "execution_count": 6,
   "metadata": {},
   "outputs": [
    {
     "data": {
      "text/html": [
       "<div>\n",
       "<style scoped>\n",
       "    .dataframe tbody tr th:only-of-type {\n",
       "        vertical-align: middle;\n",
       "    }\n",
       "\n",
       "    .dataframe tbody tr th {\n",
       "        vertical-align: top;\n",
       "    }\n",
       "\n",
       "    .dataframe thead th {\n",
       "        text-align: right;\n",
       "    }\n",
       "</style>\n",
       "<table border=\"1\" class=\"dataframe\">\n",
       "  <thead>\n",
       "    <tr style=\"text-align: right;\">\n",
       "      <th></th>\n",
       "      <th>title</th>\n",
       "      <th>description</th>\n",
       "      <th>budget</th>\n",
       "    </tr>\n",
       "  </thead>\n",
       "  <tbody>\n",
       "    <tr>\n",
       "      <th>0</th>\n",
       "      <td>Experienced Media Buyer For Solar Pannel and R...</td>\n",
       "      <td>We’re looking for a talented and hardworking a...</td>\n",
       "      <td>500.0</td>\n",
       "    </tr>\n",
       "    <tr>\n",
       "      <th>1</th>\n",
       "      <td>Full Stack Developer</td>\n",
       "      <td>Job Title: Full Stack DeveloperWe are seeking ...</td>\n",
       "      <td>1100.0</td>\n",
       "    </tr>\n",
       "    <tr>\n",
       "      <th>2</th>\n",
       "      <td>SMMA Bubble App</td>\n",
       "      <td>I need someone to redesign my bubble.io site t...</td>\n",
       "      <td>NaN</td>\n",
       "    </tr>\n",
       "    <tr>\n",
       "      <th>3</th>\n",
       "      <td>Talent Hunter Specialized in Marketing</td>\n",
       "      <td>Join Our Growing Team!We are an innovative com...</td>\n",
       "      <td>NaN</td>\n",
       "    </tr>\n",
       "    <tr>\n",
       "      <th>4</th>\n",
       "      <td>Data Engineer</td>\n",
       "      <td>We are looking for a resource who can work par...</td>\n",
       "      <td>650.0</td>\n",
       "    </tr>\n",
       "  </tbody>\n",
       "</table>\n",
       "</div>"
      ],
      "text/plain": [
       "                                               title  \\\n",
       "0  Experienced Media Buyer For Solar Pannel and R...   \n",
       "1                               Full Stack Developer   \n",
       "2                                    SMMA Bubble App   \n",
       "3             Talent Hunter Specialized in Marketing   \n",
       "4                                      Data Engineer   \n",
       "\n",
       "                                         description  budget  \n",
       "0  We’re looking for a talented and hardworking a...   500.0  \n",
       "1  Job Title: Full Stack DeveloperWe are seeking ...  1100.0  \n",
       "2  I need someone to redesign my bubble.io site t...     NaN  \n",
       "3  Join Our Growing Team!We are an innovative com...     NaN  \n",
       "4  We are looking for a resource who can work par...   650.0  "
      ]
     },
     "execution_count": 6,
     "metadata": {},
     "output_type": "execute_result"
    }
   ],
   "source": [
    "df = df.drop(['link', 'published_date', 'is_hourly', 'hourly_low', 'hourly_high', 'country'], axis=1)\n",
    "df.head()"
   ]
  },
  {
   "cell_type": "code",
   "execution_count": 7,
   "metadata": {},
   "outputs": [
    {
     "name": "stdout",
     "output_type": "stream",
     "text": [
      "<class 'pandas.core.frame.DataFrame'>\n",
      "RangeIndex: 53058 entries, 0 to 53057\n",
      "Data columns (total 3 columns):\n",
      " #   Column       Non-Null Count  Dtype  \n",
      "---  ------       --------------  -----  \n",
      " 0   title        53058 non-null  object \n",
      " 1   description  53058 non-null  object \n",
      " 2   budget       21873 non-null  float64\n",
      "dtypes: float64(1), object(2)\n",
      "memory usage: 1.2+ MB\n"
     ]
    }
   ],
   "source": [
    "df.info()"
   ]
  },
  {
   "cell_type": "code",
   "execution_count": 10,
   "metadata": {},
   "outputs": [
    {
     "name": "stdout",
     "output_type": "stream",
     "text": [
      "<class 'pandas.core.frame.DataFrame'>\n",
      "Index: 21873 entries, 0 to 53057\n",
      "Data columns (total 3 columns):\n",
      " #   Column       Non-Null Count  Dtype  \n",
      "---  ------       --------------  -----  \n",
      " 0   title        21873 non-null  object \n",
      " 1   description  21873 non-null  object \n",
      " 2   budget       21873 non-null  float64\n",
      "dtypes: float64(1), object(2)\n",
      "memory usage: 683.5+ KB\n"
     ]
    }
   ],
   "source": [
    "df = df.dropna()\n",
    "df.info()"
   ]
  },
  {
   "cell_type": "code",
   "execution_count": 11,
   "metadata": {},
   "outputs": [],
   "source": [
    "df.to_csv(\"preprocessed-upwork-jobds.csv\", index=False)"
   ]
  },
  {
   "cell_type": "code",
   "execution_count": null,
   "metadata": {},
   "outputs": [],
   "source": []
  }
 ],
 "metadata": {
  "kernelspec": {
   "display_name": "py3.11",
   "language": "python",
   "name": "python3"
  },
  "language_info": {
   "codemirror_mode": {
    "name": "ipython",
    "version": 3
   },
   "file_extension": ".py",
   "mimetype": "text/x-python",
   "name": "python",
   "nbconvert_exporter": "python",
   "pygments_lexer": "ipython3",
   "version": "3.11.11"
  }
 },
 "nbformat": 4,
 "nbformat_minor": 2
}
